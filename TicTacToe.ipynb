{
 "cells": [
  {
   "cell_type": "code",
   "execution_count": 1,
   "metadata": {},
   "outputs": [],
   "source": [
    "def display_board(board):\n",
    "    for i,char in enumerate(board):\n",
    "        if i%3==2 :\n",
    "            print(char)\n",
    "            print('---')\n",
    "        else:\n",
    "            print(char + '|', end=\" \")\n"
   ]
  },
  {
   "cell_type": "code",
   "execution_count": 2,
   "metadata": {},
   "outputs": [],
   "source": [
    "def player_choice(i):\n",
    "    choice = input('Enter player{} choice '.format(i))\n",
    "    return choice"
   ]
  },
  {
   "cell_type": "code",
   "execution_count": null,
   "metadata": {},
   "outputs": [],
   "source": [
    "def playerInput(player,char,board):\n",
    "    validInput = False\n",
    "    while not validInput:\n",
    "        pInput = int(input('Enter player {} input from(1-9)'.format(player)));\n",
    "        if(pInput<1 or pInput>9):\n",
    "            print('Incorrect input')\n",
    "            continue\n",
    "        \n",
    "        pInput = pInput-1\n",
    "        if checkIfValidInput(board,pInput):\n",
    "            board[pInput] = char\n",
    "            validInput = True\n",
    "        else : \n",
    "            print('Incorrect input')"
   ]
  },
  {
   "cell_type": "code",
   "execution_count": 4,
   "metadata": {},
   "outputs": [],
   "source": [
    "def checkIfValidInput(board,i):\n",
    "    return board[i] == ''"
   ]
  },
  {
   "cell_type": "code",
   "execution_count": 7,
   "metadata": {},
   "outputs": [],
   "source": [
    "def tictactoe():\n",
    "    print('Welcome to tic tac toe')\n",
    "    board = ['1','2','3','4','5','6','7','8','9']\n",
    "    display_board(board)\n",
    "    print('Lets begin!')\n",
    "    \n",
    "    board = ['','','','','','','','','',]\n",
    "    player1 = player_choice(1)\n",
    "    player2 = 'O' if player1=='X' else 'X'\n",
    "    gameFinished = False\n",
    "    \n",
    "    while not gameFinished:\n",
    "        playerInput(1,player1,board)\n",
    "        display_board(board)\n",
    "        playerInput(2,player2,board)\n",
    "        display_board(board)\n",
    "        \n",
    "        gameFinished = True"
   ]
  },
  {
   "cell_type": "code",
   "execution_count": null,
   "metadata": {},
   "outputs": [],
   "source": [
    "tictactoe()"
   ]
  },
  {
   "cell_type": "code",
   "execution_count": null,
   "metadata": {},
   "outputs": [],
   "source": []
  }
 ],
 "metadata": {
  "kernelspec": {
   "display_name": "Python 3",
   "language": "python",
   "name": "python3"
  },
  "language_info": {
   "codemirror_mode": {
    "name": "ipython",
    "version": 3
   },
   "file_extension": ".py",
   "mimetype": "text/x-python",
   "name": "python",
   "nbconvert_exporter": "python",
   "pygments_lexer": "ipython3",
   "version": "3.7.3"
  }
 },
 "nbformat": 4,
 "nbformat_minor": 2
}
